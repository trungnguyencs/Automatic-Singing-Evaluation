{
 "cells": [
  {
   "cell_type": "markdown",
   "metadata": {},
   "source": [
    "# Trung Nguyen - 111752939\n",
    "## Assignment #3: Data Integration and Modeling "
   ]
  },
  {
   "cell_type": "markdown",
   "metadata": {},
   "source": [
    "## Task 1 (10%)\n",
    "\n",
    "> - Build a scoring function to rank houses by “desirability”, presumably a notion related to cost or value.  \n",
    "- Identify what the ten most desirable and least desirable houses in the Kaggle data set are.\n",
    "- Write a one page description of which variables your function used and how well you think it worked. "
   ]
  },
  {
   "cell_type": "code",
   "execution_count": 1,
   "metadata": {
    "collapsed": true
   },
   "outputs": [],
   "source": [
    "import numpy as np\n",
    "import pandas as pd\n",
    "import seaborn as sns\n",
    "import matplotlib.pyplot as plt\n",
    "import matplotlib\n",
    "import math\n",
    "from sklearn import datasets, linear_model, preprocessing\n",
    "from sklearn.metrics import mean_squared_error, r2_score, pairwise\n",
    "from sklearn.model_selection import train_test_split\n",
    "from sklearn.feature_selection import f_regression\n",
    "from sklearn.cluster import KMeans\n",
    "import warnings\n",
    "warnings.filterwarnings('ignore')\n",
    "\n",
    "df = pd.read_csv('./data/properties_2017.csv', low_memory=False)\n",
    "# Calculate mean value and replace NaN values with mean value"
   ]
  },
  {
   "cell_type": "markdown",
   "metadata": {},
   "source": [
    "There are fields whose values are numercal but they should be listed as categorical, since their numerical values does not reflex the level of affection to the model (Such as ``typeid`` fields). Changing each of their value to a new binary feature would be the right way to extract information from them, but then the model becomes very complex with too many features, so I simply dropped them.\n",
    "\n",
    "I also dropped all binary fields, as I don't have experience with handling both categorical features and numerical features in the same model.\n",
    "\n",
    "I also dropped all fields whose whose the ratio of NaN values > 25%\n",
    "\n",
    "Finally, I replaced all NaN values in  whose "
   ]
  },
  {
   "cell_type": "code",
   "execution_count": 2,
   "metadata": {
    "collapsed": true
   },
   "outputs": [],
   "source": [
    "df_dropped = df.drop([\"hashottuborspa\", \"propertycountylandusecode\", \"propertyzoningdesc\", \n",
    "                            \"fireplaceflag\", \"taxdelinquencyflag\", \"assessmentyear\", \n",
    "                            \"airconditioningtypeid\", \"buildingclasstypeid\", \"decktypeid\",\n",
    "                            \"heatingorsystemtypeid\", \"regionidcity\", \"regionidcounty\",\n",
    "                            \"poolcnt\", \"fips\", \"threequarterbathnbr\",\n",
    "                            \"regionidneighborhood\", \"regionidzip\", \"storytypeid\",\n",
    "                            \"pooltypeid7\", \"rawcensustractandblock\", \"censustractandblock\",\n",
    "                            \"typeconstructiontypeid\", \"pooltypeid10\", \"pooltypeid2\", \n",
    "                            \"architecturalstyletypeid\", \"bathroomcnt\", \"propertylandusetypeid\"], axis=1)\n",
    "# df_dropped_filled0 = df_dropped.fillna(0)\n",
    "row, column = df_dropped.shape"
   ]
  },
  {
   "cell_type": "code",
   "execution_count": 3,
   "metadata": {
    "collapsed": true
   },
   "outputs": [],
   "source": [
    "# Drop all columns whose the ratio of NaN values > 50%\n",
    "df_dropped1 = df_dropped.copy()\n",
    "row, column = df_dropped1.shape\n",
    "for x in df_dropped1:\n",
    "    if df_dropped1[str(x)].isnull().sum() > row*0.5:\n",
    "        df_dropped1.drop(str(x), axis=1, inplace=True)"
   ]
  },
  {
   "cell_type": "code",
   "execution_count": 4,
   "metadata": {
    "collapsed": true
   },
   "outputs": [],
   "source": [
    "for x in df_dropped1:\n",
    "    # 'np.nanmean' finds mean by ignoring NaN values, we then replace NaN values with the result\n",
    "    median = np.nanmedian(df_dropped1[str(x)])\n",
    "    df_dropped1[str(x)].fillna(value=median, inplace=True)\n",
    "#     for i,y in enumerate(df_dropped1[str(x)]):\n",
    "#         if y=='nan' or y==\"nan\" or math.isnan(y):\n",
    "#             df_dropped1[str(x)][i] = median"
   ]
  },
  {
   "cell_type": "code",
   "execution_count": 5,
   "metadata": {},
   "outputs": [
    {
     "data": {
      "text/html": [
       "<div>\n",
       "<style>\n",
       "    .dataframe thead tr:only-child th {\n",
       "        text-align: right;\n",
       "    }\n",
       "\n",
       "    .dataframe thead th {\n",
       "        text-align: left;\n",
       "    }\n",
       "\n",
       "    .dataframe tbody tr th {\n",
       "        vertical-align: top;\n",
       "    }\n",
       "</style>\n",
       "<table border=\"1\" class=\"dataframe\">\n",
       "  <thead>\n",
       "    <tr style=\"text-align: right;\">\n",
       "      <th></th>\n",
       "      <th>parcelid</th>\n",
       "      <th>bedroomcnt</th>\n",
       "      <th>buildingqualitytypeid</th>\n",
       "      <th>calculatedbathnbr</th>\n",
       "      <th>calculatedfinishedsquarefeet</th>\n",
       "      <th>finishedsquarefeet12</th>\n",
       "      <th>fullbathcnt</th>\n",
       "      <th>latitude</th>\n",
       "      <th>longitude</th>\n",
       "      <th>lotsizesquarefeet</th>\n",
       "      <th>roomcnt</th>\n",
       "      <th>unitcnt</th>\n",
       "      <th>yearbuilt</th>\n",
       "      <th>structuretaxvaluedollarcnt</th>\n",
       "      <th>taxvaluedollarcnt</th>\n",
       "      <th>landtaxvaluedollarcnt</th>\n",
       "      <th>taxamount</th>\n",
       "    </tr>\n",
       "  </thead>\n",
       "  <tbody>\n",
       "    <tr>\n",
       "      <th>0</th>\n",
       "      <td>10754147</td>\n",
       "      <td>0.0</td>\n",
       "      <td>6.0</td>\n",
       "      <td>2.0</td>\n",
       "      <td>1574.0</td>\n",
       "      <td>1542.0</td>\n",
       "      <td>2.0</td>\n",
       "      <td>34144442.0</td>\n",
       "      <td>-118654084.0</td>\n",
       "      <td>85768.0</td>\n",
       "      <td>0.0</td>\n",
       "      <td>1.0</td>\n",
       "      <td>1963.0</td>\n",
       "      <td>127066.0</td>\n",
       "      <td>9.0</td>\n",
       "      <td>9.0</td>\n",
       "      <td>4007.62</td>\n",
       "    </tr>\n",
       "    <tr>\n",
       "      <th>1</th>\n",
       "      <td>10759547</td>\n",
       "      <td>0.0</td>\n",
       "      <td>6.0</td>\n",
       "      <td>2.0</td>\n",
       "      <td>1574.0</td>\n",
       "      <td>1542.0</td>\n",
       "      <td>2.0</td>\n",
       "      <td>34140430.0</td>\n",
       "      <td>-118625364.0</td>\n",
       "      <td>4083.0</td>\n",
       "      <td>0.0</td>\n",
       "      <td>1.0</td>\n",
       "      <td>1963.0</td>\n",
       "      <td>127066.0</td>\n",
       "      <td>27516.0</td>\n",
       "      <td>27516.0</td>\n",
       "      <td>4007.62</td>\n",
       "    </tr>\n",
       "    <tr>\n",
       "      <th>2</th>\n",
       "      <td>10843547</td>\n",
       "      <td>0.0</td>\n",
       "      <td>6.0</td>\n",
       "      <td>2.0</td>\n",
       "      <td>73026.0</td>\n",
       "      <td>1542.0</td>\n",
       "      <td>2.0</td>\n",
       "      <td>33989359.0</td>\n",
       "      <td>-118394633.0</td>\n",
       "      <td>63085.0</td>\n",
       "      <td>0.0</td>\n",
       "      <td>2.0</td>\n",
       "      <td>1959.0</td>\n",
       "      <td>660680.0</td>\n",
       "      <td>1434941.0</td>\n",
       "      <td>774261.0</td>\n",
       "      <td>20800.37</td>\n",
       "    </tr>\n",
       "    <tr>\n",
       "      <th>3</th>\n",
       "      <td>10859147</td>\n",
       "      <td>0.0</td>\n",
       "      <td>6.0</td>\n",
       "      <td>2.0</td>\n",
       "      <td>5068.0</td>\n",
       "      <td>1542.0</td>\n",
       "      <td>2.0</td>\n",
       "      <td>34148863.0</td>\n",
       "      <td>-118437206.0</td>\n",
       "      <td>7521.0</td>\n",
       "      <td>0.0</td>\n",
       "      <td>1.0</td>\n",
       "      <td>1948.0</td>\n",
       "      <td>580059.0</td>\n",
       "      <td>1174475.0</td>\n",
       "      <td>594416.0</td>\n",
       "      <td>14557.57</td>\n",
       "    </tr>\n",
       "    <tr>\n",
       "      <th>4</th>\n",
       "      <td>10879947</td>\n",
       "      <td>0.0</td>\n",
       "      <td>6.0</td>\n",
       "      <td>2.0</td>\n",
       "      <td>1776.0</td>\n",
       "      <td>1542.0</td>\n",
       "      <td>2.0</td>\n",
       "      <td>34194168.0</td>\n",
       "      <td>-118385816.0</td>\n",
       "      <td>8512.0</td>\n",
       "      <td>0.0</td>\n",
       "      <td>1.0</td>\n",
       "      <td>1947.0</td>\n",
       "      <td>196751.0</td>\n",
       "      <td>440101.0</td>\n",
       "      <td>243350.0</td>\n",
       "      <td>5725.17</td>\n",
       "    </tr>\n",
       "  </tbody>\n",
       "</table>\n",
       "</div>"
      ],
      "text/plain": [
       "   parcelid  bedroomcnt  buildingqualitytypeid  calculatedbathnbr  \\\n",
       "0  10754147         0.0                    6.0                2.0   \n",
       "1  10759547         0.0                    6.0                2.0   \n",
       "2  10843547         0.0                    6.0                2.0   \n",
       "3  10859147         0.0                    6.0                2.0   \n",
       "4  10879947         0.0                    6.0                2.0   \n",
       "\n",
       "   calculatedfinishedsquarefeet  finishedsquarefeet12  fullbathcnt  \\\n",
       "0                        1574.0                1542.0          2.0   \n",
       "1                        1574.0                1542.0          2.0   \n",
       "2                       73026.0                1542.0          2.0   \n",
       "3                        5068.0                1542.0          2.0   \n",
       "4                        1776.0                1542.0          2.0   \n",
       "\n",
       "     latitude    longitude  lotsizesquarefeet  roomcnt  unitcnt  yearbuilt  \\\n",
       "0  34144442.0 -118654084.0            85768.0      0.0      1.0     1963.0   \n",
       "1  34140430.0 -118625364.0             4083.0      0.0      1.0     1963.0   \n",
       "2  33989359.0 -118394633.0            63085.0      0.0      2.0     1959.0   \n",
       "3  34148863.0 -118437206.0             7521.0      0.0      1.0     1948.0   \n",
       "4  34194168.0 -118385816.0             8512.0      0.0      1.0     1947.0   \n",
       "\n",
       "   structuretaxvaluedollarcnt  taxvaluedollarcnt  landtaxvaluedollarcnt  \\\n",
       "0                    127066.0                9.0                    9.0   \n",
       "1                    127066.0            27516.0                27516.0   \n",
       "2                    660680.0          1434941.0               774261.0   \n",
       "3                    580059.0          1174475.0               594416.0   \n",
       "4                    196751.0           440101.0               243350.0   \n",
       "\n",
       "   taxamount  \n",
       "0    4007.62  \n",
       "1    4007.62  \n",
       "2   20800.37  \n",
       "3   14557.57  \n",
       "4    5725.17  "
      ]
     },
     "execution_count": 5,
     "metadata": {},
     "output_type": "execute_result"
    }
   ],
   "source": [
    "df_dropped1.head()"
   ]
  },
  {
   "cell_type": "code",
   "execution_count": 6,
   "metadata": {},
   "outputs": [
    {
     "name": "stdout",
     "output_type": "stream",
     "text": [
      "(2985217, 17)\n",
      "(2985217, 31)\n"
     ]
    },
    {
     "data": {
      "text/html": [
       "<div>\n",
       "<style>\n",
       "    .dataframe thead tr:only-child th {\n",
       "        text-align: right;\n",
       "    }\n",
       "\n",
       "    .dataframe thead th {\n",
       "        text-align: left;\n",
       "    }\n",
       "\n",
       "    .dataframe tbody tr th {\n",
       "        vertical-align: top;\n",
       "    }\n",
       "</style>\n",
       "<table border=\"1\" class=\"dataframe\">\n",
       "  <thead>\n",
       "    <tr style=\"text-align: right;\">\n",
       "      <th></th>\n",
       "      <th>parcelid</th>\n",
       "      <th>bedroomcnt</th>\n",
       "      <th>buildingqualitytypeid</th>\n",
       "      <th>calculatedbathnbr</th>\n",
       "      <th>calculatedfinishedsquarefeet</th>\n",
       "      <th>finishedsquarefeet12</th>\n",
       "      <th>fullbathcnt</th>\n",
       "      <th>latitude</th>\n",
       "      <th>longitude</th>\n",
       "      <th>lotsizesquarefeet</th>\n",
       "      <th>roomcnt</th>\n",
       "      <th>unitcnt</th>\n",
       "      <th>yearbuilt</th>\n",
       "      <th>structuretaxvaluedollarcnt</th>\n",
       "      <th>taxvaluedollarcnt</th>\n",
       "      <th>landtaxvaluedollarcnt</th>\n",
       "      <th>taxamount</th>\n",
       "    </tr>\n",
       "  </thead>\n",
       "  <tbody>\n",
       "    <tr>\n",
       "      <th>count</th>\n",
       "      <td>2.985217e+06</td>\n",
       "      <td>2.985217e+06</td>\n",
       "      <td>2.985217e+06</td>\n",
       "      <td>2.985217e+06</td>\n",
       "      <td>2.985217e+06</td>\n",
       "      <td>2.985217e+06</td>\n",
       "      <td>2.985217e+06</td>\n",
       "      <td>2.985217e+06</td>\n",
       "      <td>2.985217e+06</td>\n",
       "      <td>2.985217e+06</td>\n",
       "      <td>2.985217e+06</td>\n",
       "      <td>2.985217e+06</td>\n",
       "      <td>2.985217e+06</td>\n",
       "      <td>2.985217e+06</td>\n",
       "      <td>2.985217e+06</td>\n",
       "      <td>2.985217e+06</td>\n",
       "      <td>2.985217e+06</td>\n",
       "    </tr>\n",
       "    <tr>\n",
       "      <th>mean</th>\n",
       "      <td>1.332586e+07</td>\n",
       "      <td>3.093270e+00</td>\n",
       "      <td>6.182629e+00</td>\n",
       "      <td>2.291902e+00</td>\n",
       "      <td>1.827566e+03</td>\n",
       "      <td>1.744376e+03</td>\n",
       "      <td>2.238353e+00</td>\n",
       "      <td>3.400131e+07</td>\n",
       "      <td>-1.182016e+08</td>\n",
       "      <td>2.117832e+04</td>\n",
       "      <td>1.472891e+00</td>\n",
       "      <td>1.119652e+00</td>\n",
       "      <td>1.964415e+03</td>\n",
       "      <td>1.773479e+05</td>\n",
       "      <td>4.421233e+05</td>\n",
       "      <td>2.666122e+05</td>\n",
       "      <td>5.398269e+03</td>\n",
       "    </tr>\n",
       "    <tr>\n",
       "      <th>std</th>\n",
       "      <td>7.909966e+06</td>\n",
       "      <td>1.270945e+00</td>\n",
       "      <td>1.401481e+00</td>\n",
       "      <td>9.851282e-01</td>\n",
       "      <td>1.939635e+03</td>\n",
       "      <td>9.866635e+02</td>\n",
       "      <td>9.745070e-01</td>\n",
       "      <td>2.433962e+05</td>\n",
       "      <td>3.454233e+05</td>\n",
       "      <td>2.383343e+05</td>\n",
       "      <td>2.838837e+00</td>\n",
       "      <td>2.027726e+00</td>\n",
       "      <td>2.345478e+01</td>\n",
       "      <td>4.564998e+05</td>\n",
       "      <td>8.117426e+05</td>\n",
       "      <td>4.817740e+05</td>\n",
       "      <td>9.639395e+03</td>\n",
       "    </tr>\n",
       "    <tr>\n",
       "      <th>min</th>\n",
       "      <td>1.071172e+07</td>\n",
       "      <td>0.000000e+00</td>\n",
       "      <td>1.000000e+00</td>\n",
       "      <td>1.000000e+00</td>\n",
       "      <td>1.000000e+00</td>\n",
       "      <td>1.000000e+00</td>\n",
       "      <td>1.000000e+00</td>\n",
       "      <td>3.332439e+07</td>\n",
       "      <td>-1.194758e+08</td>\n",
       "      <td>1.000000e+02</td>\n",
       "      <td>0.000000e+00</td>\n",
       "      <td>1.000000e+00</td>\n",
       "      <td>1.801000e+03</td>\n",
       "      <td>1.000000e+00</td>\n",
       "      <td>1.000000e+00</td>\n",
       "      <td>1.000000e+00</td>\n",
       "      <td>2.400000e-01</td>\n",
       "    </tr>\n",
       "    <tr>\n",
       "      <th>25%</th>\n",
       "      <td>1.164371e+07</td>\n",
       "      <td>2.000000e+00</td>\n",
       "      <td>6.000000e+00</td>\n",
       "      <td>2.000000e+00</td>\n",
       "      <td>1.220000e+03</td>\n",
       "      <td>1.229000e+03</td>\n",
       "      <td>2.000000e+00</td>\n",
       "      <td>3.382756e+07</td>\n",
       "      <td>-1.183926e+08</td>\n",
       "      <td>5.866000e+03</td>\n",
       "      <td>0.000000e+00</td>\n",
       "      <td>1.000000e+00</td>\n",
       "      <td>1.950000e+03</td>\n",
       "      <td>7.839700e+04</td>\n",
       "      <td>1.897140e+05</td>\n",
       "      <td>8.178200e+04</td>\n",
       "      <td>2.480880e+03</td>\n",
       "    </tr>\n",
       "    <tr>\n",
       "      <th>50%</th>\n",
       "      <td>1.254509e+07</td>\n",
       "      <td>3.000000e+00</td>\n",
       "      <td>6.000000e+00</td>\n",
       "      <td>2.000000e+00</td>\n",
       "      <td>1.574000e+03</td>\n",
       "      <td>1.542000e+03</td>\n",
       "      <td>2.000000e+00</td>\n",
       "      <td>3.400807e+07</td>\n",
       "      <td>-1.181721e+08</td>\n",
       "      <td>7.000000e+03</td>\n",
       "      <td>0.000000e+00</td>\n",
       "      <td>1.000000e+00</td>\n",
       "      <td>1.963000e+03</td>\n",
       "      <td>1.270660e+05</td>\n",
       "      <td>3.211610e+05</td>\n",
       "      <td>1.766190e+05</td>\n",
       "      <td>4.007620e+03</td>\n",
       "    </tr>\n",
       "    <tr>\n",
       "      <th>75%</th>\n",
       "      <td>1.409712e+07</td>\n",
       "      <td>4.000000e+00</td>\n",
       "      <td>7.000000e+00</td>\n",
       "      <td>3.000000e+00</td>\n",
       "      <td>2.127000e+03</td>\n",
       "      <td>2.000000e+03</td>\n",
       "      <td>3.000000e+00</td>\n",
       "      <td>3.416171e+07</td>\n",
       "      <td>-1.179491e+08</td>\n",
       "      <td>9.222000e+03</td>\n",
       "      <td>0.000000e+00</td>\n",
       "      <td>1.000000e+00</td>\n",
       "      <td>1.981000e+03</td>\n",
       "      <td>2.022470e+05</td>\n",
       "      <td>5.104360e+05</td>\n",
       "      <td>3.219020e+05</td>\n",
       "      <td>6.204640e+03</td>\n",
       "    </tr>\n",
       "    <tr>\n",
       "      <th>max</th>\n",
       "      <td>1.696019e+08</td>\n",
       "      <td>2.500000e+01</td>\n",
       "      <td>1.200000e+01</td>\n",
       "      <td>3.200000e+01</td>\n",
       "      <td>9.525760e+05</td>\n",
       "      <td>4.270790e+05</td>\n",
       "      <td>3.200000e+01</td>\n",
       "      <td>3.481965e+07</td>\n",
       "      <td>-1.175543e+08</td>\n",
       "      <td>3.710005e+08</td>\n",
       "      <td>9.600000e+01</td>\n",
       "      <td>9.970000e+02</td>\n",
       "      <td>2.016000e+03</td>\n",
       "      <td>2.553212e+08</td>\n",
       "      <td>3.196225e+08</td>\n",
       "      <td>9.401108e+07</td>\n",
       "      <td>3.823176e+06</td>\n",
       "    </tr>\n",
       "  </tbody>\n",
       "</table>\n",
       "</div>"
      ],
      "text/plain": [
       "           parcelid    bedroomcnt  buildingqualitytypeid  calculatedbathnbr  \\\n",
       "count  2.985217e+06  2.985217e+06           2.985217e+06       2.985217e+06   \n",
       "mean   1.332586e+07  3.093270e+00           6.182629e+00       2.291902e+00   \n",
       "std    7.909966e+06  1.270945e+00           1.401481e+00       9.851282e-01   \n",
       "min    1.071172e+07  0.000000e+00           1.000000e+00       1.000000e+00   \n",
       "25%    1.164371e+07  2.000000e+00           6.000000e+00       2.000000e+00   \n",
       "50%    1.254509e+07  3.000000e+00           6.000000e+00       2.000000e+00   \n",
       "75%    1.409712e+07  4.000000e+00           7.000000e+00       3.000000e+00   \n",
       "max    1.696019e+08  2.500000e+01           1.200000e+01       3.200000e+01   \n",
       "\n",
       "       calculatedfinishedsquarefeet  finishedsquarefeet12   fullbathcnt  \\\n",
       "count                  2.985217e+06          2.985217e+06  2.985217e+06   \n",
       "mean                   1.827566e+03          1.744376e+03  2.238353e+00   \n",
       "std                    1.939635e+03          9.866635e+02  9.745070e-01   \n",
       "min                    1.000000e+00          1.000000e+00  1.000000e+00   \n",
       "25%                    1.220000e+03          1.229000e+03  2.000000e+00   \n",
       "50%                    1.574000e+03          1.542000e+03  2.000000e+00   \n",
       "75%                    2.127000e+03          2.000000e+03  3.000000e+00   \n",
       "max                    9.525760e+05          4.270790e+05  3.200000e+01   \n",
       "\n",
       "           latitude     longitude  lotsizesquarefeet       roomcnt  \\\n",
       "count  2.985217e+06  2.985217e+06       2.985217e+06  2.985217e+06   \n",
       "mean   3.400131e+07 -1.182016e+08       2.117832e+04  1.472891e+00   \n",
       "std    2.433962e+05  3.454233e+05       2.383343e+05  2.838837e+00   \n",
       "min    3.332439e+07 -1.194758e+08       1.000000e+02  0.000000e+00   \n",
       "25%    3.382756e+07 -1.183926e+08       5.866000e+03  0.000000e+00   \n",
       "50%    3.400807e+07 -1.181721e+08       7.000000e+03  0.000000e+00   \n",
       "75%    3.416171e+07 -1.179491e+08       9.222000e+03  0.000000e+00   \n",
       "max    3.481965e+07 -1.175543e+08       3.710005e+08  9.600000e+01   \n",
       "\n",
       "            unitcnt     yearbuilt  structuretaxvaluedollarcnt  \\\n",
       "count  2.985217e+06  2.985217e+06                2.985217e+06   \n",
       "mean   1.119652e+00  1.964415e+03                1.773479e+05   \n",
       "std    2.027726e+00  2.345478e+01                4.564998e+05   \n",
       "min    1.000000e+00  1.801000e+03                1.000000e+00   \n",
       "25%    1.000000e+00  1.950000e+03                7.839700e+04   \n",
       "50%    1.000000e+00  1.963000e+03                1.270660e+05   \n",
       "75%    1.000000e+00  1.981000e+03                2.022470e+05   \n",
       "max    9.970000e+02  2.016000e+03                2.553212e+08   \n",
       "\n",
       "       taxvaluedollarcnt  landtaxvaluedollarcnt     taxamount  \n",
       "count       2.985217e+06           2.985217e+06  2.985217e+06  \n",
       "mean        4.421233e+05           2.666122e+05  5.398269e+03  \n",
       "std         8.117426e+05           4.817740e+05  9.639395e+03  \n",
       "min         1.000000e+00           1.000000e+00  2.400000e-01  \n",
       "25%         1.897140e+05           8.178200e+04  2.480880e+03  \n",
       "50%         3.211610e+05           1.766190e+05  4.007620e+03  \n",
       "75%         5.104360e+05           3.219020e+05  6.204640e+03  \n",
       "max         3.196225e+08           9.401108e+07  3.823176e+06  "
      ]
     },
     "execution_count": 6,
     "metadata": {},
     "output_type": "execute_result"
    }
   ],
   "source": [
    "print(df_dropped1.shape)\n",
    "print(df_dropped.shape)\n",
    "df_dropped1.describe()"
   ]
  },
  {
   "cell_type": "code",
   "execution_count": 8,
   "metadata": {},
   "outputs": [],
   "source": [
    "df_dropped1_scaled = df_dropped1.copy()\n",
    "\n",
    "remain_columns = [\"bedroomcnt\", \"buildingqualitytypeid\", \"calculatedbathnbr\", \n",
    "                 \"calculatedfinishedsquarefeet\", \"finishedsquarefeet12\", \"fullbathcnt\",\n",
    "                 \"lotsizesquarefeet\", \"roomcnt\", \"unitcnt\",\n",
    "                 \"yearbuilt\", \"structuretaxvaluedollarcnt\", \"taxvaluedollarcnt\",\n",
    "                 \"landtaxvaluedollarcnt\", \"taxamount\"]\n",
    "\n",
    "#Reference: http://scikit-learn.org/stable/modules/generated/sklearn.preprocessing.minmax_scale.html\n",
    "\n",
    "#Scaling all variables to a range of (0,cap), where cap = 10000\n",
    "#This is done by: X_std = (X - X.min) / (X.max - X.min)\n",
    "#                 X_scaled = X_std * (max - min) + min\n",
    "#Using an API referred above to do the computation\n",
    "\n",
    "cap = 100\n",
    "for i in remain_columns:\n",
    "    df_dropped1_scaled[i] = preprocessing.minmax_scale(df_dropped1[i], (0,cap))"
   ]
  },
  {
   "cell_type": "code",
   "execution_count": null,
   "metadata": {
    "collapsed": true
   },
   "outputs": [],
   "source": [
    "field_no = df_dropped1_scaled.shape[1]\n",
    "\n",
    "score =  df_dropped1_scaled[\"bedroomcnt\"]\\\n",
    "        - df_dropped1_scaled[\"buildingqualitytypeid\"] + \\\n",
    "        df_dropped1_scaled[\"calculatedbathnbr\"] + \\\n",
    "        df_dropped1_scaled[\"calculatedfinishedsquarefeet\"] + \\\n",
    "        df_dropped1_scaled[\"finishedsquarefeet12\"] + \\\n",
    "        df_dropped1_scaled[\"fullbathcnt\"] + \\\n",
    "        df_dropped1_scaled[\"lotsizesquarefeet\"] + \\\n",
    "        df_dropped1_scaled[\"roomcnt\"] + \\\n",
    "        df_dropped1_scaled[\"unitcnt\"]\\\n",
    "        - df_dropped1_scaled[\"yearbuilt\"] + \\\n",
    "        df_dropped1_scaled[\"structuretaxvaluedollarcnt\"] + \\\n",
    "        df_dropped1_scaled[\"taxvaluedollarcnt\"] + \\\n",
    "        df_dropped1_scaled[\"landtaxvaluedollarcnt\"] + \\\n",
    "        df_dropped1_scaled[\"taxamount\"]\n",
    "\n",
    "mostAbove = df_dropped1.loc[score.argmax()]\n",
    "mostBelow = df_dropped1.loc[score.argmin()]\n",
    "# print(\"House ID with highest Score: \",mostAbove)\n",
    "# print(\"House ID with lowest Score: \",mostBelow)"
   ]
  },
  {
   "cell_type": "code",
   "execution_count": null,
   "metadata": {
    "collapsed": true
   },
   "outputs": [],
   "source": [
    "df_dropped1_score = df_dropped1.copy()\n",
    "df_dropped1_score['Score'] = score.values\n",
    "df_dropped1_sorted = df_dropped1_score.sort_values(by='Score',axis=0,ascending=False)"
   ]
  },
  {
   "cell_type": "code",
   "execution_count": null,
   "metadata": {
    "collapsed": true
   },
   "outputs": [],
   "source": [
    "df_dropped1_sorted.nlargest(10, 'Score')"
   ]
  },
  {
   "cell_type": "code",
   "execution_count": null,
   "metadata": {
    "collapsed": true
   },
   "outputs": [],
   "source": [
    "df_dropped1_sorted.nsmallest(10, 'Score')"
   ]
  },
  {
   "cell_type": "markdown",
   "metadata": {},
   "source": [
    "## Task 2 (10%)\n",
    "\n",
    "> - Define a house “pairwise distance function”, which measures the similarity of two properties.  Like a distance metric, similar pairs of very similar properties should be distance near zero, with distance increasing as the properties grow more dissimilar.  \n",
    "- Experiment with your distance function, and write a one page discussion evaluating how well you think it worked.   Your function should include geographic as well as property-specific variables. \n"
   ]
  },
  {
   "cell_type": "markdown",
   "metadata": {},
   "source": [
    "Distance function = Euclidean distance\n",
    "\n",
    "Geographic info is not yet included -> chưa biết nên làm thế nào?"
   ]
  },
  {
   "cell_type": "code",
   "execution_count": null,
   "metadata": {
    "collapsed": true
   },
   "outputs": [],
   "source": [
    "def pairwise_distance(X,Y):\n",
    "    X.values.reshape(-1, 1)\n",
    "    Y.values.reshape(-1, 1)\n",
    "    return pairwise.euclidean_distances(X, Y, Y_norm_squared=None, squared=False, X_norm_squared=None)"
   ]
  },
  {
   "cell_type": "markdown",
   "metadata": {},
   "source": [
    "Distance between the highest-ranked and lowest-ranked house based on our distance function:"
   ]
  },
  {
   "cell_type": "code",
   "execution_count": null,
   "metadata": {
    "collapsed": true
   },
   "outputs": [],
   "source": [
    "X1 = df_dropped1_scaled.loc[score.argmax()]\n",
    "Y1 = df_dropped1_scaled.loc[score.argmin()]\n",
    "print(pairwise_distance(X1,Y1))"
   ]
  },
  {
   "cell_type": "markdown",
   "metadata": {},
   "source": [
    "Distance between the two highest ranked houses based on our distance function:"
   ]
  },
  {
   "cell_type": "code",
   "execution_count": null,
   "metadata": {
    "collapsed": true
   },
   "outputs": [],
   "source": [
    "X2 = df_dropped1_scaled.loc[0]\n",
    "Y2 = df_dropped1_scaled.loc[1]\n",
    "print(pairwise_distance(X2,Y2))"
   ]
  },
  {
   "cell_type": "markdown",
   "metadata": {},
   "source": [
    "## Task 3 (15%)\n",
    "\n",
    "> - Using your distance function and an appropriate clustering algorithm, cluster the houses using your distance function into 10 to 100 classes, as you see best.   \n",
    "- Present a dot-plot/map (with tiny dots colored to reflect the clustering) illustrating the clusters your method produced.    \n",
    "- Write a one page discussion/analysis of what your clusters seem to be capturing, and how well they work \n",
    "\n"
   ]
  },
  {
   "cell_type": "markdown",
   "metadata": {},
   "source": [
    "Dùng K-Means để cluster dựa theo score ở trên"
   ]
  },
  {
   "cell_type": "code",
   "execution_count": null,
   "metadata": {
    "collapsed": true
   },
   "outputs": [],
   "source": [
    "n_clusters = 10\n",
    "kmeans = KMeans(n_clusters)\n",
    "kmeans.fit(score.reshape(-1,1))\n",
    "centroid = kmeans.cluster_centers_\n",
    "label = kmeans.labels_\n",
    "print(centroid)\n",
    "print(label)"
   ]
  },
  {
   "cell_type": "markdown",
   "metadata": {},
   "source": [
    "Add label vừa nhận được từ K-Means vào data frame"
   ]
  },
  {
   "cell_type": "code",
   "execution_count": null,
   "metadata": {
    "collapsed": true
   },
   "outputs": [],
   "source": [
    "df_dropped1_label = df_dropped1_score.copy()\n",
    "df_dropped1_label['Label'] = label"
   ]
  },
  {
   "cell_type": "markdown",
   "metadata": {},
   "source": [
    "Plot data theo label"
   ]
  },
  {
   "cell_type": "code",
   "execution_count": null,
   "metadata": {
    "collapsed": true,
    "scrolled": false
   },
   "outputs": [],
   "source": [
    "from random import randint\n",
    "colors = []\n",
    "\n",
    "for i in range(n_clusters):\n",
    "    colors.append('#''%06X' % randint(0, 0xFFFFFF))\n",
    "\n",
    "fig1, ax1 = plt.subplots(figsize=(18,18))\n",
    "for i in range(n_clusters):\n",
    "    df_label_i = df_dropped1_label.Label[df_dropped1_label['Label'] == i]\n",
    "    df_score_i = df_dropped1_label.Score[df_dropped1_label['Label'] == i]\n",
    "    length_df_label_i = df_label_i.shape[0]     \n",
    "    plt.scatter(df_score_i,np.zeros(length_df_label_i),c=colors[i],edgecolors='black')\n",
    "plt.scatter(centroid,np.zeros(n_clusters),c = 'r',marker = \"x\",s=300)\n",
    "plt.show()"
   ]
  },
  {
   "cell_type": "markdown",
   "metadata": {},
   "source": [
    "## Task 4 (20%)\n",
    "\n",
    "> - Identify at least one external data set which you can integrate into your price prediction analysis to make it better.  Perhaps it can be financial, such as the historical effects of interest rates, consumer confidence, etc. on housing prices.  Perhaps it can be geographic, like the crime rate, educational scores, income levels, etc.   \n",
    "- Write a one page discussion/analysis on whether this data helps with the prediction tasks \n",
    "\n",
    "\n"
   ]
  },
  {
   "cell_type": "markdown",
   "metadata": {},
   "source": [
    "## Task 5 (20%)\n",
    "\n",
    "> - Finally, build the best prediction model you can to solve the Zillow task.  Use any data, ideas, and approach that you like. Predict the logerror for instances at file “sample_submission.csv”.  \n",
    "- Report the score/rank you get. \n",
    "- Write a 2-3 page report about how it works, an evaluation, and any interesting experiences along the way.  \n",
    "\n"
   ]
  },
  {
   "cell_type": "markdown",
   "metadata": {},
   "source": [
    "## Task 6 (15%)\n",
    "\n",
    "> - Do a permutation test to determine a p-value of how good your predictions of logerror are.  You can use whatever metric you wish to score your model (like mean absolute error).   \n",
    "- For a large enough sample of the evaluation data, compare how your model ranks by this metric on the real data compared to 100 (or more) random permutations of the logerror assigned to the real data records. \n",
    "- What fraction of permutations produce at least error at least as good at the real data set?   If necessary, sample your data so these 100+ runs do not take too much time. \n",
    "\n",
    "\n"
   ]
  },
  {
   "cell_type": "markdown",
   "metadata": {},
   "source": [
    "## Task 7 (10%)\n",
    "\n",
    "> Submit your results on the real test data to Kaggle before deadline. Write the result into a csv file and submit it to the website. Actually, submit two for your two best models, to the extent that Zillow allows it.   \n",
    "\n",
    "\n"
   ]
  },
  {
   "cell_type": "code",
   "execution_count": null,
   "metadata": {
    "collapsed": true
   },
   "outputs": [],
   "source": []
  },
  {
   "cell_type": "code",
   "execution_count": null,
   "metadata": {
    "collapsed": true
   },
   "outputs": [],
   "source": []
  }
 ],
 "metadata": {
  "kernelspec": {
   "display_name": "Python [conda env:py35]",
   "language": "python",
   "name": "conda-env-py35-py"
  },
  "language_info": {
   "codemirror_mode": {
    "name": "ipython",
    "version": 3
   },
   "file_extension": ".py",
   "mimetype": "text/x-python",
   "name": "python",
   "nbconvert_exporter": "python",
   "pygments_lexer": "ipython3",
   "version": "3.5.3"
  }
 },
 "nbformat": 4,
 "nbformat_minor": 2
}
