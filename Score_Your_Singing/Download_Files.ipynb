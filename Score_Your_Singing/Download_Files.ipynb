{
 "cells": [
  {
   "cell_type": "code",
   "execution_count": 1,
   "metadata": {
    "collapsed": true
   },
   "outputs": [],
   "source": [
    "import pandas as pd\n",
    "import urllib"
   ]
  },
  {
   "cell_type": "code",
   "execution_count": 2,
   "metadata": {},
   "outputs": [],
   "source": [
    "begin_download = 1500\n",
    "end_download = 1975\n",
    "\n",
    "df = pd.read_csv('./data/out_1_4000.csv')\n",
    "df_mp3 = df[df['file_type'] == 'mp3'].reset_index()"
   ]
  },
  {
   "cell_type": "code",
   "execution_count": 3,
   "metadata": {},
   "outputs": [
    {
     "data": {
      "text/plain": [
       "(1976, 23)"
      ]
     },
     "execution_count": 3,
     "metadata": {},
     "output_type": "execute_result"
    }
   ],
   "source": [
    "df_mp3.shape"
   ]
  },
  {
   "cell_type": "code",
   "execution_count": 4,
   "metadata": {},
   "outputs": [
    {
     "name": "stdout",
     "output_type": "stream",
     "text": [
      "475\n",
      "475\n"
     ]
    }
   ],
   "source": [
    "df_mp3_cropped = df_mp3[begin_download : end_download]\n",
    "df_mp3_download = df_mp3_cropped[['download_link','recording_id']]\n",
    "\n",
    "download_link = df_mp3_download['download_link'].tolist()\n",
    "recording_id = df_mp3_download['recording_id'].tolist()\n",
    "\n",
    "print(len(download_link))\n",
    "print(len(recording_id))"
   ]
  },
  {
   "cell_type": "code",
   "execution_count": 5,
   "metadata": {},
   "outputs": [],
   "source": [
    "df_mp3_download.to_csv('./data/download' + '_' + str(begin_download) + '_' + str(end_download) + '.csv',index=False)"
   ]
  },
  {
   "cell_type": "code",
   "execution_count": 7,
   "metadata": {},
   "outputs": [],
   "source": [
    "for i in range(len(download_link)):\n",
    "    name = recording_id[i]\n",
    "    url = download_link[i]\n",
    "    urllib.request.urlretrieve(url,'./data/'+str(begin_download)+'_'+str(end_download)+'/'+str(name)+'.mp3')"
   ]
  },
  {
   "cell_type": "code",
   "execution_count": null,
   "metadata": {
    "collapsed": true
   },
   "outputs": [],
   "source": []
  }
 ],
 "metadata": {
  "kernelspec": {
   "display_name": "Python 3",
   "language": "python",
   "name": "python3"
  },
  "language_info": {
   "codemirror_mode": {
    "name": "ipython",
    "version": 3
   },
   "file_extension": ".py",
   "mimetype": "text/x-python",
   "name": "python",
   "nbconvert_exporter": "python",
   "pygments_lexer": "ipython3",
   "version": "3.6.1"
  }
 },
 "nbformat": 4,
 "nbformat_minor": 2
}
